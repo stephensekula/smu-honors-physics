{
 "cells": [
  {
   "cell_type": "markdown",
   "metadata": {},
   "source": [
    "# SMU Honors Physics: Adventures in Spacetime\n",
    "\n",
    "In this python notebook, we will explore numbers, especially vectors - numbers that define both a length and a direction. Vectors are a crucial class of numbers in physics. Many quantities in the natural world must be specified by more than just a size or a length; they indicate where to go next, and also need to specify directional information. In this unit, we explore simple numbers without direction (\"scalars\"), then move on to numbers with direction (\"vectors\"). This will all be done with a programming language, called PYTHON, which you will use over and over this semester to explore different questions about the natural world.\n",
    "\n",
    "In this unit, you will learn the following:\n",
    "\n",
    "* How to define scalars in PYTHON.\n",
    "* How to operate on scalars to make them do things, like make other scalars.\n",
    "* How to define vectors in general\n",
    "* How to define vectors in PYTHON\n",
    "* How to operate on vectors \n",
    "* How to use vectors to represent physical quantities, like those that describe motion in space and time\n",
    "* Apply vectors to model a physical process"
   ]
  },
  {
   "cell_type": "markdown",
   "metadata": {},
   "source": [
    "## Scalars (in general, and in PYTHON)\n",
    "\n",
    "A \"scalar\" is a number with magnitude, but no directions. Here are some physical quantities that are represented by scalars:\n",
    "\n",
    "* Your age: \"I am 19 years old\" is a description of the *magnitude* of your age. Of course, we all know that time only ever seems to move in one direction, so we never bother to specify the direction of age. \n",
    "* The temperature of a room: \"It's 70F in this office right now\" is a statement about the magnitude of the temperature (heat energy content) of the room. It has no directional information. For instance, knowing that it is 70F in this room doesn't tell us about the temperature in the hall, or the next room. It has no information about what temperature is doing elsewhere.\n",
    "* Speed: \"I am driving at 70 miles per hour\" is a statement about how far you go over a certain amount of time. Nobody can figure out, from just this information, whether you are driving north, south, east, west, or some combination of those. Speed is a scalar that gives no information about what your speed will be later, what it was earlier, or in what direction your motion is aimed.\n",
    "\n",
    "Now that you have familiarized yourself with scalars in the physical world, let us represent them using the PYTHON programming language and then learn to operate on scalars to do things - like make other scalars."
   ]
  },
  {
   "cell_type": "markdown",
   "metadata": {},
   "source": [
    "### Scalars in PYTHON - integers and floating point numbers\n",
    "\n",
    "PYTHON has two built-in simple scalar types: integers (0,1,2,3,... or -1,-2,-3,...) and \"floating point\" numbers, more commonly known as \"decimal numbers\" (1.1, 3.14159, 75.008). PYTHON allows you to have a symbol represent a number (like in algebra) and then use the symbol to conduct operations on the numbers. Consider the following first steps into PYTHON to store a decimal number using a \"variable\" (a symbol that stands for a number and whose value can be altered), and then act on the variable with mathematical operations (addition, +, subtraction, -, multiplication, \\*, and division, /).\n",
    "\n",
    "To make the next block of \"code\" (programming commands) do something, click your mouse cursor into the block and press the SHIFT key and the ENTER key at the same time."
   ]
  },
  {
   "cell_type": "code",
   "execution_count": 7,
   "metadata": {
    "collapsed": false
   },
   "outputs": [
    {
     "name": "stdout",
     "output_type": "stream",
     "text": [
      "The value of x is 5.000000\n",
      "25.000000\n",
      "25.00\n",
      "The value of y is:\n",
      "10.0\n",
      "Addition\n",
      "15.0\n",
      "Subtraction\n",
      "-5.0\n",
      "Multiplication\n",
      "50.0\n",
      "Division\n",
      "0.5\n"
     ]
    }
   ],
   "source": [
    "# This is a comment. PYTHON ignores these, but they are helpful for people!\n",
    "# Any line that begins with a # symbol is a comment.\n",
    "\n",
    "# Let's define a variable, x:\n",
    "x = 5.0\n",
    "\n",
    "# By just placing the variable on its own line, we can print its value:\n",
    "x\n",
    "\n",
    "# That's not very pretty. Just a number on a line. Let's print this with some helpful text:\n",
    "print(\"The value of x is %f\" %(x))\n",
    "\n",
    "# How about printing a multiplication operation?\n",
    "print(\"%f\" %(x*5.0))\n",
    "\n",
    "# We don't need all those decimal places. Let's print just a few (or maybe lots more! Play around!)\n",
    "print(\"%.2f\" % (x*5.0))\n",
    "\n",
    "# Let's define a new variable, y, based on x:\n",
    "y = x*2.0\n",
    "print(\"The value of y is:\")\n",
    "print(y)\n",
    "\n",
    "# Let's print out some arithmetic operations between x and y:\n",
    "print(\"Addition\")\n",
    "print(x+y)\n",
    "\n",
    "print(\"Subtraction\")\n",
    "print(x-y)\n",
    "\n",
    "print(\"Multiplication\")\n",
    "print(x*y)\n",
    "\n",
    "print(\"Division\")\n",
    "print(x/y)\n",
    "\n",
    "# Congratulations - you just learned how to make a computer do whatever you want. Imagine the endless applications!\n"
   ]
  },
  {
   "cell_type": "markdown",
   "metadata": {},
   "source": [
    "## Vectors\n",
    "\n",
    "A \"vector\" is a collection of scalars that, together, represent both magnitude and direction. Many physical quantities can only be accurately described by vectors. For example:\n",
    "\n",
    "* Velocity: \"I am driving northeast at 70 miles per hour\" is a statement both about direction (\"northwest\") and magnitude (\"70 miles per hour\"). Not only do you know how much space is being covered, and in what time it is covered - you know where to find the person at a later time because you know their direction! If you know the starting point, you can keep track of a journey. \n",
    "* Acceleration: \"I am falling down to the earth and my speed increases by 9.8 meters per second, every second\" is a statement about the rate of change of speed, and the direction in which that change occurs. The earth's gravitational force causes such a change in speed near the surface of the earth, and always seems to cause the change in a direction that points toward the center of the earth (\"down\").\n",
    "* Electric force: \"The lightning jumped from the storm cloud to the ground\" is a statement about how much charge was drained from a storm cloud (in the sky) to the ground (down below the storm). This is a vector, containing both direction (downward) and magnitude (lightning is a number of electric charges that all make the jump). Even without actual motion, electric charges can exert forces on each other and those forces have directionality and strength.\n",
    "\n",
    "There are many notations for a vector. For instance, let us try to represent the first example above - velocity - using a notation.\n",
    "\n",
    "**\"I am driving northeast at 70 miles per hour.\"**\n",
    "\n",
    "Let us assume that the driver is moving an equal amount of distance north for every amount west that they move. We can represent one step in their motion as follows:"
   ]
  },
  {
   "cell_type": "code",
   "execution_count": 27,
   "metadata": {
    "collapsed": false
   },
   "outputs": [
    {
     "data": {
      "image/png": "[encoded data removed]",
      "text/plain": [
       "<matplotlib.figure.Figure at 0x7f569d87f250>"
      ]
     },
     "metadata": {},
     "output_type": "display_data"
    }
   ],
   "source": [
    "# We'll need this more later, but this code snippet will draw arrows. We need them to represent the above statement\n",
    "import matplotlib.pyplot as plt\n",
    "import math\n",
    "%matplotlib inline\n",
    "plt.axis('on')\n",
    "\n",
    "# Draw an east-pointing arrow\n",
    "plt.arrow(0, 0, 1/math.sqrt(2)-0.1, 0, head_width=0.05, head_length=0.1, fc='k', ec='k');\n",
    "\n",
    "# Draw a north-pointing arrow\n",
    "plt.arrow(1/math.sqrt(2), 0, 0, 1/math.sqrt(2)-0.1, head_width=0.05, head_length=0.1, fc='k', ec='k');\n",
    "\n",
    "# Draw the actual arrow representing the total motion of the car\n",
    "plt.arrow(0, 0, 0.9/math.sqrt(2), 0.9/math.sqrt(2), head_width=0.05, head_length=0.1, fc='c', ec='c');\n"
   ]
  },
  {
   "cell_type": "markdown",
   "metadata": {},
   "source": [
    "The above code snippet will help us later in doing more vector visualization, but for now focus on notating the above picture. For every bit of distance, x, that we go eastward, we go a distance, y, northward. In the above picture, x=y . . . but that doesn't always have to be the case. In fact, most of the time it's not.\n",
    "\n",
    "Let us look at two popular notations for the above:\n",
    "\n",
    "$\\vec{v} = (x,y)$\n",
    "\n",
    "or\n",
    "\n",
    "$\\vec{v} = x\\hat{i} + y\\hat{j}$\n",
    "\n",
    "The first notation uses parentheses and commas to separate the horizontal component (x) from the vertical component (y). The second notation uses an additional kind of vector, a *unit vector*, to represent \"direction along horizontal\" ($\\hat{i}$) and \"direction along vertical\" ($\\hat{j}$). \n",
    "\n",
    "For this exercise, we prefer the first notation since it's very similar to what we will do in PYTHON to represent vectors. Let's look at that."
   ]
  },
  {
   "cell_type": "markdown",
   "metadata": {},
   "source": [
    "## Vectors in PYTHON\n",
    "\n",
    "Below, we show you how to write vectors using PYTHON and then act on vectors with various algebraic operations. Play around with these and see if you can get a feel for what it means to define and then manipulate a vector. The visualization below will update when you make changes."
   ]
  },
  {
   "cell_type": "code",
   "execution_count": 28,
   "metadata": {
    "collapsed": true
   },
   "outputs": [],
   "source": [
    "# import a library of numerical tools for defining and manipulating vectors\n",
    "import numpy as np\n",
    "\n",
    "# Let's define a vector using two scalar variables to set the components\n",
    "x = 5.0\n",
    "y = 5.0\n",
    "\n",
    "v = np.array([x,y])\n",
    "\n",
    "# Let us print the components of the vector\n",
    "print(\"The components of the vector, v, are as follows:\")\n",
    "print(\"x = %f\" % (v.))"
   ]
  },
  {
   "cell_type": "code",
   "execution_count": null,
   "metadata": {
    "collapsed": true
   },
   "outputs": [],
   "source": []
  }
 ],
 "metadata": {
  "kernelspec": {
   "display_name": "Python [Root]",
   "language": "python",
   "name": "Python [Root]"
  },
  "language_info": {
   "codemirror_mode": {
    "name": "ipython",
    "version": 2
   },
   "file_extension": ".py",
   "mimetype": "text/x-python",
   "name": "python",
   "nbconvert_exporter": "python",
   "pygments_lexer": "ipython2",
   "version": "2.7.11"
  }
 },
 "nbformat": 4,
 "nbformat_minor": 0
}

{
 "cells": [
  {
   "cell_type": "markdown",
   "metadata": {},
   "source": [
    "# SMU Honors Physics: Adventures in Spacetime\n",
    "\n",
    "In this python notebook, we will explore numbers, especially vectors - numbers that define both a length and a direction. Vectors are a crucial class of numbers in physics. Many quantities in the natural world must be specified by more than just a size or a length; they indicate where to go next, and also need to specify directional information. In this unit, we explore simple numbers without direction (\"scalars\"), then move on to numbers with direction (\"vectors\"). This will all be done with a programming language, called PYTHON, which you will use over and over this semester to explore different questions about the natural world.\n",
    "\n",
    "In this unit, you will learn the following:\n",
    "\n",
    "* How to define scalars in PYTHON.\n",
    "* How to operate on scalars to make them do things, like make other scalars.\n",
    "* How to define vectors in general\n",
    "* How to define vectors in PYTHON\n",
    "* How to operate on vectors \n",
    "* How to use vectors to represent physical quantities, like those that describe motion in space and time\n",
    "* Apply vectors to model a physical process"
   ]
  },
  {
   "cell_type": "markdown",
   "metadata": {},
   "source": [
    "## Scalars (in general, and in PYTHON)\n",
    "\n",
    "A \"scalar\" is a number with magnitude, but no directions. Here are some physical quantities that are represented by scalars:\n",
    "\n",
    "* Your age: \"I am 19 years old\" is a description of the *magnitude* of your age. Of course, we all know that time only ever seems to move in one direction, so we never bother to specify the direction of age. \n",
    "* The temperature of a room: \"It's 70F in this office right now\" is a statement about the magnitude of the temperature (heat energy content) of the room. It has no directional information. For instance, knowing that it is 70F in this room doesn't tell us about the temperature in the hall, or the next room. It has no information about what temperature is doing elsewhere.\n",
    "* Speed: \"I am driving at 70 miles per hour\" is a statement about how far you go over a certain amount of time. Nobody can figure out, from just this information, whether you are driving north, south, east, west, or some combination of those. Speed is a scalar that gives no information about what your speed will be later, what it was earlier, or in what direction your motion is aimed.\n",
    "\n",
    "Now that you have familiarized yourself with scalars in the physical world, let us represent them using the PYTHON programming language and then learn to operate on scalars to do things - like make other scalars."
   ]
  },
  {
   "cell_type": "markdown",
   "metadata": {},
   "source": [
    "### Scalars in PYTHON - integers and floating point numbers\n",
    "\n",
    "PYTHON has two built-in simple scalar types: integers (0,1,2,3,... or -1,-2,-3,...) and \"floating point\" numbers, more commonly known as \"decimal numbers\" (1.1, 3.14159, 75.008). PYTHON allows you to have a symbol represent a number (like in algebra) and then use the symbol to conduct operations on the numbers. Consider the following first steps into PYTHON to store a decimal number using a \"variable\" (a symbol that stands for a number and whose value can be altered), and then act on the variable with mathematical operations (addition, +, subtraction, -, multiplication, \\*, and division, /).\n",
    "\n",
    "To make the next block of \"code\" (programming commands) do something, click your mouse cursor into the block and press the SHIFT key and the ENTER key at the same time."
   ]
  },
  {
   "cell_type": "code",
   "execution_count": 2,
   "metadata": {
    "collapsed": false
   },
   "outputs": [
    {
     "name": "stdout",
     "output_type": "stream",
     "text": [
      "The value of x is 5.000000\n",
      "25.000000\n",
      "25.00\n",
      "The value of y is:\n",
      "10.0\n",
      "Addition\n",
      "15.0\n",
      "Subtraction\n",
      "-5.0\n",
      "Multiplication\n",
      "50.0\n",
      "Division\n",
      "0.5\n"
     ]
    }
   ],
   "source": [
    "# This is a comment. PYTHON ignores these, but they are helpful for people!\n",
    "# Any line that begins with a # symbol is a comment.\n",
    "\n",
    "# Let's define a variable, x:\n",
    "x = 5.0\n",
    "\n",
    "# By just placing the variable on its own line, we can print its value:\n",
    "x\n",
    "\n",
    "# That's not very pretty. Just a number on a line. Let's print this with some helpful text:\n",
    "print(\"The value of x is %f\" %(x))\n",
    "\n",
    "# How about printing a multiplication operation?\n",
    "print(\"%f\" %(x*5.0))\n",
    "\n",
    "# We don't need all those decimal places. Let's print just a few (or maybe lots more! Play around!)\n",
    "print(\"%.2f\" % (x*5.0))\n",
    "\n",
    "# Let's define a new variable, y, based on x:\n",
    "y = x*2.0\n",
    "print(\"The value of y is:\")\n",
    "print(y)\n",
    "\n",
    "# Let's print out some arithmetic operations between x and y:\n",
    "print(\"Addition\")\n",
    "print(x+y)\n",
    "\n",
    "print(\"Subtraction\")\n",
    "print(x-y)\n",
    "\n",
    "print(\"Multiplication\")\n",
    "print(x*y)\n",
    "\n",
    "print(\"Division\")\n",
    "print(x/y)\n",
    "\n",
    "# Congratulations - you just learned how to make a computer do whatever you want. Imagine the endless applications!\n"
   ]
  },
  {
   "cell_type": "markdown",
   "metadata": {},
   "source": [
    "## Vectors\n",
    "\n",
    "A \"vector\" is a collection of scalars that, together, represent both magnitude and direction. Many physical quantities can only be accurately described by vectors. For example:\n",
    "\n",
    "* Velocity: \"I am driving northeast at 70 miles per hour\" is a statement both about direction (\"northwest\") and magnitude (\"70 miles per hour\"). Not only do you know how much space is being covered, and in what time it is covered - you know where to find the person at a later time because you know their direction! If you know the starting point, you can keep track of a journey. \n",
    "* Acceleration: \"I am falling down to the earth and my speed increases by 9.8 meters per second, every second\" is a statement about the rate of change of speed, and the direction in which that change occurs. The earth's gravitational force causes such a change in speed near the surface of the earth, and always seems to cause the change in a direction that points toward the center of the earth (\"down\").\n",
    "* Electric force: \"The lightning jumped from the storm cloud to the ground\" is a statement about how much charge was drained from a storm cloud (in the sky) to the ground (down below the storm). This is a vector, containing both direction (downward) and magnitude (lightning is a number of electric charges that all make the jump). Even without actual motion, electric charges can exert forces on each other and those forces have directionality and strength.\n",
    "\n",
    "There are many notations for a vector. For instance, let us try to represent the first example above - velocity - using a notation.\n",
    "\n",
    "**\"I am driving northeast at 70 miles per hour.\"**\n",
    "\n",
    "Let us assume that the driver is moving an equal amount of distance north for every amount west that they move. We can represent one step in their motion as follows:"
   ]
  },
  {
   "cell_type": "code",
   "execution_count": 1,
   "metadata": {
    "collapsed": false
   },
   "outputs": [
    {
     "data": {
      "image/png": "[encoded data removed]",
      "text/plain": [
       "<matplotlib.figure.Figure at 0x7f7200610b90>"
      ]
     },
     "metadata": {},
     "output_type": "display_data"
    }
   ],
   "source": [
    "# We'll need this more later, but this code snippet will draw arrows. We need them to represent the above statement\n",
    "import matplotlib.pyplot as plt\n",
    "import math\n",
    "%matplotlib inline\n",
    "plt.axis('on')\n",
    "plt.xlim(-1.0,1.0)\n",
    "plt.ylim(-1.0,1.0)\n",
    "\n",
    "# Draw an east-pointing arrow\n",
    "plt.arrow(0, 0, 1/math.sqrt(2)-0.1, 0, head_width=0.05, head_length=0.1, fc='k', ec='k');\n",
    "\n",
    "# Draw a north-pointing arrow\n",
    "plt.arrow(1/math.sqrt(2), 0, 0, 1/math.sqrt(2)-0.1, head_width=0.05, head_length=0.1, fc='k', ec='k');\n",
    "\n",
    "# Draw the actual arrow representing the total motion of the car\n",
    "plt.arrow(0, 0, 0.9/math.sqrt(2), 0.9/math.sqrt(2), head_width=0.05, head_length=0.1, fc='c', ec='c');\n"
   ]
  },
  {
   "cell_type": "markdown",
   "metadata": {},
   "source": [
    "The above code snippet will help us later in doing more vector visualization, but for now focus on notating the above picture. For every bit of distance, x, that we go eastward, we go a distance, y, northward. In the above picture, x=y . . . but that doesn't always have to be the case. In fact, most of the time it's not.\n",
    "\n",
    "Let us look at two popular notations for the above:\n",
    "\n",
    "$\\vec{v} = (x,y)$\n",
    "\n",
    "or\n",
    "\n",
    "$\\vec{v} = x\\hat{i} + y\\hat{j}$\n",
    "\n",
    "The first notation uses parentheses and commas to separate the horizontal component (x) from the vertical component (y). The second notation uses an additional kind of vector, a *unit vector*, to represent \"direction along horizontal\" ($\\hat{i}$) and \"direction along vertical\" ($\\hat{j}$). \n",
    "\n",
    "For this exercise, we prefer the first notation since it's very similar to what we will do in PYTHON to represent vectors. Let's look at that.\n",
    "\n",
    "### Mathematical Operations on Vectors\n",
    "\n",
    "* Adding two vectors is as simple as adding the like-components: the first component in each vector is added to the first component in the next; the second component in each vector is added to the second component of the next; etc. Mathematically, we can represent this as follows: ${\\vec v}_1 + {\\vec v}_2 = (1,5) + (4,5) = (1+4, 5+5) = (5,10)$. Note that the sum of two vectors yields a new vector.\n",
    "* Subtracting two vectors is just like addition, but with minus signs. For example, ${\\vec v}_1 - {\\vec v}_2 = (1,5)-(4,5) = (1-4, 5-5) = (-3, 0)$. Again, subtraction yields a new vector.\n",
    "* Scalar multiplication involves multiplying a vector by a scalar. In this case, you change the overall length of the vector, but not its direction (we will see this in PYTHON below). For example, let $a=5$ and ${\\vec v} = (1,5)$, and then multiply them: $a{\\vec v} = 5(1,5) = (5 \\cdot 1, 5 \\cdot 5) = (5,25)$. Note that scalar multiplication yields a vector.\n",
    "* Dot-product vector multiplication: one way to multiply two vectors is to take the \"dot product,\" in which you multiply each component by the same component from another vector and sum the resulting products. For example: ${\\vec v}_1 \\cdot {\\vec v}_2 = (1,5) \\cdot (4,5) = (1 \\cdot 4) + (5 \\cdot 5) = 4 + 25 = 29$. Note that the dot-product of two vectors is a scalar - a pure number.\n",
    "\n",
    "### The Length of a Vector\n",
    "\n",
    "A vector is an arrow. It has direction, but also length (\"magnitude\"). We now have enough mathematical information to calculate the length of any vector, knowing its components.\n",
    "\n",
    "We can determine the length of a vector using the Pythagorean Theorem. Consider the picture above of driving east and then driving north. The eastward movement creates a horizontal vector. The northward movement creates a vertical vector. The resulting total motion - driving northeast - is the sum of two independent motions, one eastward and one northward. We can write the eastward vector (of length $e$) as:\n",
    "\n",
    "\\begin{equation} \\vec{e} = (e,0) \\end{equation}\n",
    "\n",
    "and the northward vector (of length $n$) as:\n",
    "\n",
    "\\begin{equation} \\vec{n} = (0,n) \\end{equation}\n",
    "\n",
    "If we add them, using the rules above, we arrive at the total motion vector:\n",
    "\n",
    "\\begin{equation} \\vec{v} = (e,0) + (0,n) = (e,n). \\end{equation}\n",
    "\n",
    "But what is the *length* of this total vector? The two components form the base and height if a right-triangle. You can imagine, then, that if we know the length of the base and the length of the height, we can find the total length of the hypotenuse - which is just the length ($L$) of the total vector! This would look like this:\n",
    "\n",
    "\\begin{equation} L^2 = e^2 + n^2 \\longrightarrow L = \\sqrt{e^2 + n^2} \\end{equation}\n",
    "\n",
    "Consider the mathematical operations we introduced above. Which operation does the length-squared, $L^2$, resemble?\n",
    "\n",
    "If you said \"dot-product,\" you're correct. In fact, the dot-product of a vector with its own self gives you the square of the length of that vector:\n",
    "\n",
    "\\begin{equation} {\\vec v} \\cdot {\\vec v} = (e,n) \\cdot (e,n) = (e \\cdot e) + (n \\cdot n) = e^2 + n^2 = L^2 \\end{equation}\n",
    "\n",
    "Let us now play with all of this in PYTHON."
   ]
  },
  {
   "cell_type": "markdown",
   "metadata": {},
   "source": [
    "## Vectors in PYTHON\n",
    "\n",
    "Below, we show you how to write vectors using PYTHON and then act on vectors with various algebraic operations. Play around with these and see if you can get a feel for what it means to define and then manipulate a vector. The visualization below will update when you make changes."
   ]
  },
  {
   "cell_type": "code",
   "execution_count": 18,
   "metadata": {
    "collapsed": false
   },
   "outputs": [
    {
     "name": "stdout",
     "output_type": "stream",
     "text": [
      "The components of the vector, v_1, are as follows:\n",
      "x = 1.000000\n",
      "y = 5.000000\n",
      "Vector addition of v_1 + v_2 yields: (5.000000, 10.000000)\n",
      "Vector subtraction of v_1 - v_2 yields: (-3.000000, 0.000000)\n",
      "Scalar multiplication of a * v_1 yields: (5.000000, 25.000000)\n",
      "Dot-product multiplication of v_1 * v_2 yields: 29.000000\n",
      "Length Method A: the length of v_1 is 5.099020\n",
      "Length Method B: the length of v_1 is 5.099020\n",
      "The length of our 5-D vector is: 12.845233\n"
     ]
    }
   ],
   "source": [
    "# import a library of numerical tools for defining and manipulating vectors\n",
    "import numpy as np\n",
    "\n",
    "# Let's define a vector using two scalar variables to set the components\n",
    "x = 1.0\n",
    "y = 5.0\n",
    "\n",
    "v_1 = np.array([x,y])\n",
    "\n",
    "# Let us print the components of the vector\n",
    "print(\"The components of the vector, v_1, are as follows:\")\n",
    "print(\"x = %f\" % (v_1[0]))\n",
    "print(\"y = %f\" % (v_1[1]))\n",
    "\n",
    "# We see that adding the operator [] after the vector, with a number inside the square brackets, gains us\n",
    "# access to the components of the vector.\n",
    "\n",
    "# Let us define a second vector\n",
    "v_2 = np.array([4,5])\n",
    "\n",
    "# Let us do vector addition:\n",
    "print(\"Vector addition of v_1 + v_2 yields: (%f, %f)\" % ((v_1+v_2)[0], (v_1+v_2)[1]))\n",
    "\n",
    "# We see that this, indeed, yields what we expect from the definition discussed above!\n",
    "# Let us subtract them:\n",
    "print(\"Vector subtraction of v_1 - v_2 yields: (%f, %f)\" % ((v_1-v_2)[0], (v_1-v_2)[1]))\n",
    "\n",
    "# Let us now multiply the vector by a scalar\n",
    "a = 5\n",
    "print(\"Scalar multiplication of a * v_1 yields: (%f, %f)\" % ((a*v_1)[0],(a*v_1)[1]))\n",
    "\n",
    "# Just as we expected from the definitions above!\n",
    "\n",
    "# Let us now do the dot-product multiplication of two vectors.\n",
    "# Numpy provides a special \"function\" to execute the dot product:\n",
    "print(\"Dot-product multiplication of v_1 * v_2 yields: %f\" % (np.dot(v_1, v_2)))\n",
    "\n",
    "# Again, this gives us what we expected from the definition of the dot product.\n",
    "\n",
    "# Let us now calculate the length of the vector, v_1, in two ways.\n",
    "\n",
    "# The first way is \"brute-force\" - do the dot-product multiplication and then square-root it:\n",
    "length = math.sqrt( np.dot(v_1, v_1))\n",
    "print(\"Length Method A: the length of v_1 is %f\" % (length))\n",
    "\n",
    "# The second way is to use numpy's built-in function for computing the length:\n",
    "length = np.linalg.norm(v_1)\n",
    "print(\"Length Method B: the length of v_1 is %f\" % (length))\n",
    "\n",
    "# Oh, look. They are the same!\n",
    "# Method B utilizes the \"Linear Algebra\" tools, and specifically the \"norm()\" function, which is\n",
    "# designed to return the length of a vector of any size (we used a 2-dimensional vector, but you\n",
    "# could give it a 10-dimensional vector and it still works!). \"Linear Algebra\" is a mathematics class\n",
    "# you might take later, and it's the algebra of structured numbers like vectors and matrices, generically\n",
    "# known as \"tensors\".\n",
    "\n",
    "# Here is a 5-dimensional vector:\n",
    "v_3 = np.array([1,3,5,7,9])\n",
    "print(\"The length of our 5-D vector is: %f\" % (np.linalg.norm(v_3)))\n",
    "\n",
    "# Neat, huh? Try computing the length yourself and see if the above answer is right.\n",
    "\n"
   ]
  },
  {
   "cell_type": "markdown",
   "metadata": {
    "collapsed": true
   },
   "source": [
    "# Fun With Vectors - Animation\n",
    "\n",
    "Let us now program a simple \"animation\" by adding TIME as an additional dimension to the problem. The above graphic of a northeast-pointing vector is static - it represents a moment in frozen time. It never changes. Let's add time as a step, and have some fun with this by making something that moves.\n",
    "\n",
    "Let us do this. Let us:\n",
    "\n",
    "* Define a \"game board\" of a fixed size.\n",
    "* Draw a vector on the game board that fits inside the board.\n",
    "* Wait a second, then draw a new vector on the game board that starts at the tip of the previous vector and points in the same direction as the original one. If the length of this vector exceeds the game board size, \"bend\" it to point back into the board. In essence, \"bounce\" it off the wall. \n",
    "* Keep this going. Draw a new vector. If it fits in the board, draw the next one in the same direction. If it doesn't, \"bounce\" it off the wall.\n",
    "\n",
    "How do we do the \"bounce\"? Let's choose the following:\n",
    "\n",
    "* If the horizontal component of the vector exceeds the horizontal boundary, flip the horizontal component around and start the next vector on the \"wall\" of the board.\n",
    "* if the vertical component of the vector exceeds the vertical boundary, flip the vertical component around and again start the next vector on the wall.\n",
    "* If BOTH exceed the boundary, flip both and start on the wall.\n",
    "\n",
    "You can make up your own rules. Here is what the program looks like in PYTHON if we implement these."
   ]
  },
  {
   "cell_type": "code",
   "execution_count": 37,
   "metadata": {
    "collapsed": false
   },
   "outputs": [
    {
     "data": {
      "image/png": "[encoded data removed]",
      "text/plain": [
       "<matplotlib.figure.Figure at 0x7f71d4ed9d50>"
      ]
     },
     "metadata": {},
     "output_type": "display_data"
    }
   ],
   "source": [
    "global board_length\n",
    "board_length = 1\n",
    "\n",
    "global board_height\n",
    "board_height = 1\n",
    "\n",
    "# colors that we can assign to the arrow and change in the game\n",
    "global colors\n",
    "colors=['k','b','g','r','c','m'] # black, blue, red, green, cyan, magenta\n",
    "\n",
    "global vector_color\n",
    "vector_color = 0\n",
    "\n",
    "# Define some functions for determining if our vector is on the board\n",
    "def vector_in_board_horizontally(x_start = 0, v = np.array([])):\n",
    "    if (x_start + v[0]) < 0:\n",
    "        return -1\n",
    "    if (x_start + v[0]) > board_length:\n",
    "        return 1\n",
    "    return 0\n",
    "\n",
    "def vector_in_board_vertically(y_start = 0, v = np.array([])):\n",
    "    if (y_start + v[1]) < 0:\n",
    "        return -1\n",
    "    if (y_start + v[1]) > board_length:\n",
    "        return 1\n",
    "    return 0\n",
    "\n",
    "# Define some functions for flipping vector components\n",
    "def flip_horizontal(v = np.array([])):\n",
    "    return np.array([-v[0],v[1]])\n",
    "\n",
    "def flip_vertical(v = np.array([])):\n",
    "    return np.array([v[0],-v[1]])\n",
    "\n",
    "# function to draw vector\n",
    "def draw_vector(x_initial = 0.5, y_initial = 0.5, v = np.array([])):\n",
    "    plt.arrow(x_initial, y_initial, v[0], v[1], head_width=0.05, head_length=0.1, fc=colors[vector_color], ec=colors[vector_color]);\n",
    "    return v\n",
    "\n",
    "# Draw the board and then play the game\n",
    "# We'll need this more later, but this code snippet will draw arrows. We need them to represent the above statement\n",
    "import matplotlib.pyplot as plt\n",
    "import math\n",
    "%matplotlib inline\n",
    "plt.axis('on')\n",
    "plt.xlim(0,board_length)\n",
    "plt.ylim(0,board_height)\n",
    "\n",
    "\n",
    "# initial vector\n",
    "x_start = 0.5\n",
    "y_start = 0.5\n",
    "v = draw_vector(x_initial = x_start, y_initial = y_start, v=np.array([0.1,0.05]))\n",
    "\n",
    "# Define a loop that (1) waits for a second and then (2) draws the next vector using our rules\n",
    "import time\n",
    "\n",
    "total_time = 5\n",
    "\n",
    "for t in range(total_time):\n",
    "    time.sleep(1)\n",
    "    v_next = v\n",
    "    \n",
    "    horizontal_choice = vector_in_board_horizontally(x_start, v)\n",
    "    if horizontal_choice == 0:\n",
    "        v_next = v_next + np.array([0.1, 0])\n",
    "        x_start = x_start + 0.1\n",
    "    elif horizontal_choice == -1:\n",
    "        v_next = np.array([0.1, v_next[1]])\n",
    "        x_start = 0\n",
    "    elif horizontal_choice == 1:\n",
    "        v_next = - np.array([0.1, v_next[1]])\n",
    "        x_start = board_length\n",
    "        \n",
    "    vertical_choice = vector_in_board_vertically(y_start, v)\n",
    "    if vertical_choice == 0:\n",
    "        v_next = v_next + np.array([0, 0.1])\n",
    "        y_start = y_start + 0.1\n",
    "    elif vertical_choice == -1:\n",
    "        v_next = np.array([v_next[0], 0.1])\n",
    "        y_start = 0\n",
    "    elif vertical_choice == 1:\n",
    "        v_next = - np.array([v_next[0], 0.1])\n",
    "        y_start = board_length\n",
    "  \n",
    "    v = v_next\n",
    "    draw_vector(x_start, y_start, v)\n",
    "    \n"
   ]
  },
  {
   "cell_type": "code",
   "execution_count": null,
   "metadata": {
    "collapsed": true
   },
   "outputs": [],
   "source": []
  }
 ],
 "metadata": {
  "kernelspec": {
   "display_name": "Python [Root]",
   "language": "python",
   "name": "Python [Root]"
  },
  "language_info": {
   "codemirror_mode": {
    "name": "ipython",
    "version": 2
   },
   "file_extension": ".py",
   "mimetype": "text/x-python",
   "name": "python",
   "nbconvert_exporter": "python",
   "pygments_lexer": "ipython2",
   "version": "2.7.13"
  }
 },
 "nbformat": 4,
 "nbformat_minor": 0
}

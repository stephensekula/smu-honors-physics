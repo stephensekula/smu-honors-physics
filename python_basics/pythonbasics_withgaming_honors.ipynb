{
 "cells": [
  {
   "cell_type": "markdown",
   "metadata": {
    "toc": "true"
   },
   "source": [
    "\n",
    "# Coding Basics - in Python\n",
    "\n",
    "## Acknowledgements\n",
    "\n",
    "This code was developed and written for the benefit of the SMU Honors Physics Course (PHYS 1010) by these authors:\n",
    "\n",
    "* [Eric Godat](https://github.com/egodat) (Original Author)\n",
    "* [Stephen Sekula](https://github.com/stephensekula) (Maintainer)\n",
    "\n",
    "And is freely available for download at https://github.com/stephensekula/smu-honors-physics/\n",
    "\n",
    "## Table of Contents\n",
    "\n",
    "* [Basic Python](#Basic-Python)\n",
    "  * [Simple Arithmetic](#Simple-Arithmetic)\n",
    "  * [Variables](#Variables)\n",
    "  * [Complex Numbers](#Complex-Numbers)\n",
    "  * [Loops](#Loops)\n",
    "  * [Functions](#Functions)\n",
    "  * [Lists](#Lists)\n",
    "* [Putting it all together](#Putting-it-all-together)\n",
    "* [Python and Basic Gaming](#Python-and-Basic-Gaming)"
   ]
  },
  {
   "cell_type": "markdown",
   "metadata": {},
   "source": [
    "# Basic Python\n",
    "\n",
    "Here we will demonstrate how to do simple coding in python. The most basic program you can write will begin with a \"data member\" (e.g. a number, such as \"1\") and execute its arithmetic \"operators\" (e.g. addition, subtraction, multiplication, and division) on another data member in order to combine them under that operation. See below for examples. Feel free to change examples! Play around. To learn, we must play!"
   ]
  },
  {
   "cell_type": "markdown",
   "metadata": {},
   "source": [
    "### Simple Arithmetic"
   ]
  },
  {
   "cell_type": "markdown",
   "metadata": {},
   "source": [
    "Simple Math Commands available for number data type are:\n",
    "\"$+$\" (addition), \"$-$\" (subtraction), \"$*$\" (multiplication), \"$/$\" (division), and \"$**$\" (exponential)"
   ]
  },
  {
   "cell_type": "code",
   "execution_count": null,
   "metadata": {},
   "outputs": [],
   "source": [
    "1+1"
   ]
  },
  {
   "cell_type": "code",
   "execution_count": null,
   "metadata": {},
   "outputs": [],
   "source": [
    "2*3"
   ]
  },
  {
   "cell_type": "code",
   "execution_count": null,
   "metadata": {},
   "outputs": [],
   "source": [
    " 2**4"
   ]
  },
  {
   "cell_type": "markdown",
   "metadata": {},
   "source": [
    "#### Be Careful\n",
    "\n",
    "Python cares about decimal points. If the first number in an operation is without a decimal place, Python treats it as a pure integer and all subsequent operations are done using integer arithmetic (no decimal places, and rounding is applied!). If the first number contains a decimal place, the operations are treated as \"floating point operations\" - decimal number arithmetic, with remainders represented as decimal fractions. See examples below."
   ]
  },
  {
   "cell_type": "code",
   "execution_count": null,
   "metadata": {},
   "outputs": [],
   "source": [
    "2/3"
   ]
  },
  {
   "cell_type": "code",
   "execution_count": null,
   "metadata": {},
   "outputs": [],
   "source": [
    "2.0/3"
   ]
  },
  {
   "cell_type": "code",
   "execution_count": null,
   "metadata": {},
   "outputs": [],
   "source": [
    "2/3.0"
   ]
  },
  {
   "cell_type": "code",
   "execution_count": null,
   "metadata": {},
   "outputs": [],
   "source": [
    "2.0/3.0"
   ]
  },
  {
   "cell_type": "markdown",
   "metadata": {},
   "source": [
    "### Variables\n",
    "\n",
    "A \"variable\" is a placeholder for some data, known or unknown in advance. This is just like variables in algebra, e.g. \"x\". You can define arbitrarily named variables and store numbers in them, then act on them symbolically without knowing their actual values, like so:"
   ]
  },
  {
   "cell_type": "code",
   "execution_count": null,
   "metadata": {},
   "outputs": [],
   "source": [
    "a = 9.8\n",
    "m = 70\n",
    "F = m * a"
   ]
  },
  {
   "cell_type": "code",
   "execution_count": null,
   "metadata": {},
   "outputs": [],
   "source": [
    "F"
   ]
  },
  {
   "cell_type": "markdown",
   "metadata": {},
   "source": [
    "#### Nota Bene!\n",
    "\n",
    "There are limits to how arbitrary you can name variables. You CANNOT name a variable:\n",
    "\n",
    "* after an existing function in Python, e.g. ```print = 1``` will fail, since ```print()``` is a function in Python that prints its contents to the screen.\n",
    "* with spaces or many other special characters in its name. ```my_cool_variable = 5``` is okay (underscores are allowed), but NOT things like ```my cool variable = 5``` or ```my-cool-variable = 5```. Spaces separate data types and/or operations in a command, and dashes mean \"subtraction\" in Python."
   ]
  },
  {
   "cell_type": "markdown",
   "metadata": {},
   "source": [
    "### Complex Numbers\n",
    "\n",
    "You are not limited to real integers and decimal numbers! You can represent complex numbers with both a real and an imaginary part, e.g.\n",
    "\n",
    "$$ z = x + i y $$\n",
    "\n",
    "where\n",
    "\n",
    "$$ i = \\sqrt{-1}$$\n",
    "\n",
    "One concrete example complete number is:\n",
    "\n",
    "$$ z_1 = 5 + 6i $$\n",
    "\n",
    "where the real part is 5 and the imaginary part is 6. To add two complex numbers, add the real parts and imaginary parts separately (in other words, treat $i$ as a common factor that can be pulled out in front of the imaginary part!)\n",
    "\n",
    "*(by the way, notice above that we rendered nice-looking math equations in this Python notebook. How did we do this? An AWESOME mathematical and text typesetting language called LaTeX that can be embedded right into these notebooks. Double-click on this cell to see the raw LaTeX code. LaTeX is a programming language, just like Python, except instead of telling a computer how to execute instructions it tells a computer how to format text in a beautiful way, far better than any word processor is able to do).*\n",
    "\n"
   ]
  },
  {
   "cell_type": "code",
   "execution_count": 2,
   "metadata": {},
   "outputs": [
    {
     "data": {
      "text/plain": [
       "(5+6j)"
      ]
     },
     "execution_count": 2,
     "metadata": {},
     "output_type": "execute_result"
    }
   ],
   "source": [
    "z1 = complex(5,6)\n",
    "z1"
   ]
  },
  {
   "cell_type": "code",
   "execution_count": 3,
   "metadata": {},
   "outputs": [
    {
     "data": {
      "text/plain": [
       "(1+2j)"
      ]
     },
     "execution_count": 3,
     "metadata": {},
     "output_type": "execute_result"
    }
   ],
   "source": [
    "z2 = complex(1,2)\n",
    "z2"
   ]
  },
  {
   "cell_type": "code",
   "execution_count": 4,
   "metadata": {},
   "outputs": [
    {
     "data": {
      "text/plain": [
       "(6+8j)"
      ]
     },
     "execution_count": 4,
     "metadata": {},
     "output_type": "execute_result"
    }
   ],
   "source": [
    "z1 + z2"
   ]
  },
  {
   "cell_type": "markdown",
   "metadata": {},
   "source": [
    "### Loops\n",
    "\n",
    "This is all fun, but what if we have to do a repetative task? Do we code up each step in the task? No! We use \"loops\" to automate the task. For instance, if we wanted to print the first 10 numbers from 0-9, we could write this code:\n",
    "\n",
    "```\n",
    "print(0)\n",
    "print(1)\n",
    "print(2)\n",
    "print(3)\n",
    "print(4)\n",
    "print(5)\n",
    "print(6)\n",
    "print(7)\n",
    "print(8)\n",
    "print(9)\n",
    "```\n",
    "\n",
    "But this is tedious! Programming was supposed to make our life easy! If only there was a way to instruct the computer to step forward, one-at-a-time, through the numbers from 0-9 and print each one. There is: it's called a \"for loop\". The for command instructs the computer to set a variable to values in a range, step through each value, and execute code each time on the variable.\n",
    "\n",
    "\n",
    "Letting the computer do your work for you:"
   ]
  },
  {
   "cell_type": "code",
   "execution_count": null,
   "metadata": {},
   "outputs": [],
   "source": [
    "for x in range(0,10):\n",
    "    print(x)"
   ]
  },
  {
   "cell_type": "markdown",
   "metadata": {},
   "source": [
    "### Functions\n",
    "\n",
    "The for loop and the print call are examples of using built-in functions to execute a task. What if you want to define your own? \n",
    "\n",
    "We can! There is a syntax for defining any kind of function we like. It takes in data and spits out new data, according to the recipe inside the function. This lets us store commands in a certain order and use them over and over again, without having to write the code EACH TIME to do so.\n",
    "\n",
    "This is part of a common philosophy in code: reuse and recycle. Write once... execute many times!\n",
    "\n",
    "For instance, here is a custom function for squaring the value of a variable ```x``` and returning the value of that operation:"
   ]
  },
  {
   "cell_type": "code",
   "execution_count": null,
   "metadata": {},
   "outputs": [],
   "source": [
    "def square_me(x):\n",
    "    y = x**2\n",
    "    return y"
   ]
  },
  {
   "cell_type": "code",
   "execution_count": null,
   "metadata": {},
   "outputs": [],
   "source": [
    "square_me(2)"
   ]
  },
  {
   "cell_type": "code",
   "execution_count": null,
   "metadata": {},
   "outputs": [],
   "source": [
    "square_me(16)"
   ]
  },
  {
   "cell_type": "code",
   "execution_count": null,
   "metadata": {},
   "outputs": [],
   "source": [
    "square_me(101)"
   ]
  },
  {
   "cell_type": "markdown",
   "metadata": {},
   "source": [
    "### Lists\n",
    "\n",
    "What if we have special sequences of data that we want to store and then process? Storing a lot of things in one place is what \"lists\" allow us to do! We can even combine lists with for loops and functions to do cool things to each data member in the list. For instance:"
   ]
  },
  {
   "cell_type": "code",
   "execution_count": null,
   "metadata": {},
   "outputs": [],
   "source": [
    "my_list = [1,2,3,4]"
   ]
  },
  {
   "cell_type": "code",
   "execution_count": null,
   "metadata": {},
   "outputs": [],
   "source": [
    "len(my_list)"
   ]
  },
  {
   "cell_type": "code",
   "execution_count": null,
   "metadata": {},
   "outputs": [],
   "source": [
    "my_list[0]"
   ]
  },
  {
   "cell_type": "code",
   "execution_count": null,
   "metadata": {},
   "outputs": [],
   "source": [
    "my_list[2]"
   ]
  },
  {
   "cell_type": "markdown",
   "metadata": {},
   "source": [
    "This one will send an error back because in PYTHON, lists start numbering at 0 and go to the length-1"
   ]
  },
  {
   "cell_type": "code",
   "execution_count": null,
   "metadata": {},
   "outputs": [],
   "source": [
    "my_list[4]"
   ]
  },
  {
   "cell_type": "markdown",
   "metadata": {
    "collapsed": true
   },
   "source": [
    "## Putting it all together\n",
    "\n",
    "Let's combine our skills! Let's use the list (```my_list```), for-loop over its contents, and square each one, printing the result!"
   ]
  },
  {
   "cell_type": "code",
   "execution_count": null,
   "metadata": {},
   "outputs": [],
   "source": [
    "for x in my_list:\n",
    "    print( square_me(x) )"
   ]
  },
  {
   "cell_type": "markdown",
   "metadata": {
    "collapsed": true
   },
   "source": [
    "# Python and Basic Gaming\n",
    "\n",
    "What if you want to do some basic graphics for game development in python? At minimum, you need the following concepts available to the code:\n",
    "\n",
    "* A space on which the game can be played - a \"game board\"\n",
    "* A character that can move about on the board - in general, such moveable objects are called \"sprites\"\n",
    "\n",
    "Below is an example of a bare-bones starting point for a basic game, which you can further develop over the semester. This uses a special Python Library called \"PyGame\" that has all the complexities hidden away, freeing you to create games with relative ease.\n",
    "\n",
    "For more information, check out these nice PyGame tutorials:\n",
    "\n",
    "* [Getting Started with PyGame](https://www.101computing.net/getting-started-with-pygame/)\n",
    "\n",
    "Thanks go to former Honors Physics suudent Mary Lena for the basic code that inspired this game idea!"
   ]
  },
  {
   "cell_type": "markdown",
   "metadata": {},
   "source": [
    "## Skydiving Peruna!\n",
    "\n",
    "The idea of this game, which is provided with only the most basic functionality here, would be as follows:\n",
    "\n",
    "* SMU's mascot, Peruna the Pony, needs urgently to get to the Boulevard!\n",
    "* The Peruna Plane can get him there fast, but there's no time or place to land... Peruna must skydive!\n",
    "* Make Peruna jump from the plane to hit his target on the ground. Do so at the right time, or he'll miss the target!\n",
    "\n",
    "The ultimate goal is to add a jumping/falling Peruna, 2-D motion considerations, and maybe even air drag... but the basic code provides only:\n",
    "\n",
    "* A simple game board - a blue sky and a grassy boulevard\n",
    "* The Peruna Plane, endlessly flying over the target area\n",
    "\n",
    "You will need to later add:\n",
    "\n",
    "* The ability to press a key and made Peruna jump from the plane!\n",
    "* A target area on the ground that moves each time the plane cycles through the map.\n",
    "* A score-keeping system (hit or miss the target)\n",
    "* A falling Peruna ... remember your gravity and 2-D motion and relativity!\n",
    "* Other physics, like air drag."
   ]
  },
  {
   "cell_type": "code",
   "execution_count": null,
   "metadata": {},
   "outputs": [],
   "source": [
    "run_game = True # Set to true to run the game\n",
    "\n",
    "\n",
    "# Import useful libraries\n",
    "import pygame\n",
    "import random\n",
    "\n",
    "\n",
    "gameboard_size = width, height = 1024, 576\n",
    "plane_speed = [5, 0] # [vx, vy]\n",
    "screen = None\n",
    "\n",
    "# Load the graphics for the game itself\n",
    "gameboard_background = pygame.image.load('gameboard.png')\n",
    "plane = pygame.image.load('airplane.png')\n",
    "plane_location = plane.get_rect()\n",
    "\n",
    "if run_game:\n",
    "    pygame.init()\n",
    "\n",
    "\n",
    "    # Initialize the game display (this makes a window appear in which the game is played)\n",
    "    pygame.display.init()\n",
    "\n",
    "    screen = pygame.display.set_mode((gameboard_size))\n",
    "\n",
    "    # In game-speak, \"blitting\" is \"drawing\"... let's \"blit\" the game board!\n",
    "    screen.blit(gameboard_background, (0,0))\n",
    "\n",
    "    # Now let's blit the airplane!\n",
    "    screen.blit(plane, plane_location)\n",
    "    pygame.display.flip()\n",
    "\n",
    "# Now let's run the gameplay.\n",
    "\n",
    "while run_game:\n",
    "    # Check if the user wishes to quit...\n",
    "    for event in pygame.event.get():\n",
    "        if event.type == pygame.QUIT: \n",
    "            break\n",
    "\n",
    "    # Advance the plane using its velocity\n",
    "    plane_location = plane_location.move(plane_speed)\n",
    "    \n",
    "    # See if the plane has moved off the game board; loop it back to the left if it has!\n",
    "    if plane_location.left >= width:\n",
    "        plane_location.x -= gameboard_size[0] + plane_location.width\n",
    "        \n",
    "    # Update the graphics on the game board\n",
    "    screen.blit(gameboard_background, (0,0))\n",
    "    screen.blit(plane, plane_location)\n",
    "    pygame.display.update()\n",
    "    pygame.time.delay(10)\n",
    "\n",
    "    \n",
    "if run_game:\n",
    "    pygame.display.update()\n",
    "    pygame.time.delay(20)\n",
    "   \n",
    "\n",
    "    pygame.display.quit()\n",
    "\n"
   ]
  },
  {
   "cell_type": "code",
   "execution_count": null,
   "metadata": {},
   "outputs": [],
   "source": []
  }
 ],
 "metadata": {
  "kernelspec": {
   "display_name": "Python 3",
   "language": "python",
   "name": "python3"
  },
  "language_info": {
   "codemirror_mode": {
    "name": "ipython",
    "version": 3
   },
   "file_extension": ".py",
   "mimetype": "text/x-python",
   "name": "python",
   "nbconvert_exporter": "python",
   "pygments_lexer": "ipython3",
   "version": "3.7.4"
  },
  "nav_menu": {},
  "toc": {
   "navigate_menu": true,
   "number_sections": false,
   "sideBar": false,
   "threshold": 6,
   "toc_cell": true,
   "toc_section_display": "block",
   "toc_window_display": false
  }
 },
 "nbformat": 4,
 "nbformat_minor": 1
}

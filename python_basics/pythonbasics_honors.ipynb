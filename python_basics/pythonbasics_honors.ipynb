{
 "cells": [
  {
   "cell_type": "markdown",
   "metadata": {
    "toc": "true"
   },
   "source": [
    "\n",
    "# Machine Representation of Mathematics - in Python\n",
    "\n",
    "## Acknowledgements\n",
    "\n",
    "This code was developed and written for the benefit of the SMU Honors Physics Course (PHYS 1010) by these authors:\n",
    "\n",
    "* [Eric Godat](https://github.com/egodat_ (Primary Author)\n",
    "* [Stephen Sekula](https://github.com/stephensekula)\n",
    "\n",
    "And is freely available for download at https://github.com/stephensekula/smu-honors-physics/\n",
    "\n",
    "## Table of Contents\n",
    "\n",
    "* [Basic Python](#Basic-Python)\n",
    "  * [Simple Arithmetic](#Simple-Arithmetic)\n",
    "  * [Variables](#Variables)\n",
    "  * [Complex Numbers](#Complex-Numbers)\n",
    "  * [Loops](#Loops)\n",
    "  * [Functions](#Functions)\n",
    "  * [Lists](#Lists)\n",
    "* [Putting it all together](#Putting-it-all-together)"
   ]
  },
  {
   "cell_type": "markdown",
   "metadata": {},
   "source": [
    "# Basic Python\n",
    "\n",
    "Here we will demonstrate how to do simple coding in python. The most basic program you can write will begin with a \"data member\" (e.g. a number, such as \"1\") and execute its arithmetic \"operators\" (e.g. addition, subtraction, multiplication, and division) on another data member in order to combine them under that operation. See below for examples. Feel free to change examples! Play around. To learn, we must play!"
   ]
  },
  {
   "cell_type": "markdown",
   "metadata": {},
   "source": [
    "### Simple Arithmetic"
   ]
  },
  {
   "cell_type": "markdown",
   "metadata": {},
   "source": [
    "Simple Math Commands available for number data type are:\n",
    "\"$+$\" (addition), \"$-$\" (subtraction), \"$*$\" (multiplication), \"$/$\" (division), and \"$**$\" (exponential)"
   ]
  },
  {
   "cell_type": "code",
   "execution_count": 15,
   "metadata": {},
   "outputs": [
    {
     "data": {
      "text/plain": [
       "2"
      ]
     },
     "execution_count": 15,
     "metadata": {},
     "output_type": "execute_result"
    }
   ],
   "source": [
    "1+1"
   ]
  },
  {
   "cell_type": "code",
   "execution_count": 16,
   "metadata": {},
   "outputs": [
    {
     "data": {
      "text/plain": [
       "6"
      ]
     },
     "execution_count": 16,
     "metadata": {},
     "output_type": "execute_result"
    }
   ],
   "source": [
    "2*3"
   ]
  },
  {
   "cell_type": "code",
   "execution_count": 17,
   "metadata": {},
   "outputs": [
    {
     "data": {
      "text/plain": [
       "16"
      ]
     },
     "execution_count": 17,
     "metadata": {},
     "output_type": "execute_result"
    }
   ],
   "source": [
    " 2**4"
   ]
  },
  {
   "cell_type": "markdown",
   "metadata": {},
   "source": [
    "#### Be Careful\n",
    "\n",
    "Python cares about decimal points. If the first number in an operation is without a decimal place, Python treats it as a pure integer and all subsequent operations are done using integer arithmetic (no decimal places, and rounding is applied!). If the first number contains a decimal place, the operations are treated as \"floating point operations\" - decimal number arithmetic, with remainders represented as decimal fractions. See examples below."
   ]
  },
  {
   "cell_type": "code",
   "execution_count": 18,
   "metadata": {},
   "outputs": [
    {
     "data": {
      "text/plain": [
       "0.6666666666666666"
      ]
     },
     "execution_count": 18,
     "metadata": {},
     "output_type": "execute_result"
    }
   ],
   "source": [
    "2/3"
   ]
  },
  {
   "cell_type": "code",
   "execution_count": 19,
   "metadata": {},
   "outputs": [
    {
     "data": {
      "text/plain": [
       "0.6666666666666666"
      ]
     },
     "execution_count": 19,
     "metadata": {},
     "output_type": "execute_result"
    }
   ],
   "source": [
    "2.0/3"
   ]
  },
  {
   "cell_type": "code",
   "execution_count": 20,
   "metadata": {},
   "outputs": [
    {
     "data": {
      "text/plain": [
       "0.6666666666666666"
      ]
     },
     "execution_count": 20,
     "metadata": {},
     "output_type": "execute_result"
    }
   ],
   "source": [
    "2/3.0"
   ]
  },
  {
   "cell_type": "code",
   "execution_count": 21,
   "metadata": {},
   "outputs": [
    {
     "data": {
      "text/plain": [
       "0.6666666666666666"
      ]
     },
     "execution_count": 21,
     "metadata": {},
     "output_type": "execute_result"
    }
   ],
   "source": [
    "2.0/3.0"
   ]
  },
  {
   "cell_type": "markdown",
   "metadata": {},
   "source": [
    "### Variables\n",
    "\n",
    "A \"variable\" is a placeholder for some data, known or unknown in advance. This is just like variables in algebra, e.g. \"x\". You can define arbitrarily named variables and store numbers in them, then act on them symbolically without knowing their actual values, like so:"
   ]
  },
  {
   "cell_type": "code",
   "execution_count": 22,
   "metadata": {
    "collapsed": true
   },
   "outputs": [],
   "source": [
    "a = 9.8\n",
    "m = 70\n",
    "F = m * a"
   ]
  },
  {
   "cell_type": "code",
   "execution_count": 23,
   "metadata": {},
   "outputs": [
    {
     "data": {
      "text/plain": [
       "686.0"
      ]
     },
     "execution_count": 23,
     "metadata": {},
     "output_type": "execute_result"
    }
   ],
   "source": [
    "F"
   ]
  },
  {
   "cell_type": "markdown",
   "metadata": {},
   "source": [
    "#### Nota Bene!\n",
    "\n",
    "There are limits to how arbitrary you can name variables. You CANNOT name a variable:\n",
    "\n",
    "* after an existing function in Python, e.g. ```print = 1``` will fail, since ```print()``` is a function in Python that prints its contents to the screen.\n",
    "* with spaces or many other special characters in its name. ```my_cool_variable = 5``` is okay (underscores are allowed), but NOT things like ```my cool variable = 5``` or ```my-cool-variable = 5```. Spaces separate data types and/or operations in a command, and dashes mean \"subtraction\" in Python."
   ]
  },
  {
   "cell_type": "markdown",
   "metadata": {},
   "source": [
    "### Complex Numbers\n",
    "\n",
    "You are not limited to real integers and decimal numbers! You can represent complex numbers with both a real and an imaginary part, e.g.\n",
    "\n",
    "$$ z = x + i y $$\n",
    "\n",
    "where\n",
    "\n",
    "$$ i = \\sqrt{-1}$$\n",
    "\n",
    "One concrete example complete number is:\n",
    "\n",
    "$$ z_1 = 5 + 6i $$\n",
    "\n",
    "where the real part is 5 and the imaginary part is 6. To add two complex numbers, add the real parts and imaginary parts separately (in other words, treat $i$ as a common factor that can be pulled out in front of the imaginary part!)\n",
    "\n",
    "*(by the way, notice above that we rendered nice-looking math equations in this Python notebook. How did we do this? An AWESOME mathematical and text typesetting language called LaTeX that can be embedded right into these notebooks. Double-click on this cell to see the raw LaTeX code. LaTeX is a programming language, just like Python, except instead of telling a computer how to execute instructions it tells a computer how to format text in a beautiful way, far better than any word processor is able to do).*\n",
    "\n"
   ]
  },
  {
   "cell_type": "code",
   "execution_count": 24,
   "metadata": {},
   "outputs": [
    {
     "data": {
      "text/plain": [
       "(5+6j)"
      ]
     },
     "execution_count": 24,
     "metadata": {},
     "output_type": "execute_result"
    }
   ],
   "source": [
    "z1 = complex(5,6)\n",
    "z1"
   ]
  },
  {
   "cell_type": "code",
   "execution_count": 25,
   "metadata": {},
   "outputs": [
    {
     "data": {
      "text/plain": [
       "(1+2j)"
      ]
     },
     "execution_count": 25,
     "metadata": {},
     "output_type": "execute_result"
    }
   ],
   "source": [
    "z2 = complex(1,2)\n",
    "z2"
   ]
  },
  {
   "cell_type": "code",
   "execution_count": 26,
   "metadata": {},
   "outputs": [
    {
     "data": {
      "text/plain": [
       "(6+8j)"
      ]
     },
     "execution_count": 26,
     "metadata": {},
     "output_type": "execute_result"
    }
   ],
   "source": [
    "z1 + z2"
   ]
  },
  {
   "cell_type": "markdown",
   "metadata": {},
   "source": [
    "### Loops\n",
    "\n",
    "This is all fun, but what if we have to do a repetative task? Do we code up each step in the task? No! We use \"loops\" to automate the task. For instance, if we wanted to print the first 10 numbers from 0-9, we could write this code:\n",
    "\n",
    "```\n",
    "print(0)\n",
    "print(1)\n",
    "print(2)\n",
    "print(3)\n",
    "print(4)\n",
    "print(5)\n",
    "print(6)\n",
    "print(7)\n",
    "print(8)\n",
    "print(9)\n",
    "```\n",
    "\n",
    "But this is tedious! Programming was supposed to make our life easy! If only there was a way to instruct the computer to step forward, one-at-a-time, through the numbers from 0-9 and print each one. There is: it's called a \"for loop\". The for command instructs the computer to set a variable to values in a range, step through each value, and execute code each time on the variable.\n",
    "\n",
    "\n",
    "Letting the computer do your work for you:"
   ]
  },
  {
   "cell_type": "code",
   "execution_count": 27,
   "metadata": {},
   "outputs": [
    {
     "name": "stdout",
     "output_type": "stream",
     "text": [
      "0\n",
      "1\n",
      "2\n",
      "3\n",
      "4\n",
      "5\n",
      "6\n",
      "7\n",
      "8\n",
      "9\n"
     ]
    }
   ],
   "source": [
    "for x in range(0,10):\n",
    "    print(x)"
   ]
  },
  {
   "cell_type": "markdown",
   "metadata": {},
   "source": [
    "### Functions\n",
    "\n",
    "The for loop and the print call are examples of using built-in functions to execute a task. What if you want to define your own? \n",
    "\n",
    "We can! There is a syntax for defining any kind of function we like. It takes in data and spits out new data, according to the recipe inside the function. This lets us store commands in a certain order and use them over and over again, without having to write the code EACH TIME to do so.\n",
    "\n",
    "This is part of a common philosophy in code: reuse and recycle. Write once... execute many times!\n",
    "\n",
    "For instance, here is a custom function for squaring the value of a variable ```x``` and returning the value of that operation:"
   ]
  },
  {
   "cell_type": "code",
   "execution_count": 28,
   "metadata": {
    "collapsed": true
   },
   "outputs": [],
   "source": [
    "def square_me(x):\n",
    "    y = x**2\n",
    "    return y"
   ]
  },
  {
   "cell_type": "code",
   "execution_count": 29,
   "metadata": {},
   "outputs": [
    {
     "data": {
      "text/plain": [
       "4"
      ]
     },
     "execution_count": 29,
     "metadata": {},
     "output_type": "execute_result"
    }
   ],
   "source": [
    "square_me(2)"
   ]
  },
  {
   "cell_type": "code",
   "execution_count": 30,
   "metadata": {},
   "outputs": [
    {
     "data": {
      "text/plain": [
       "256"
      ]
     },
     "execution_count": 30,
     "metadata": {},
     "output_type": "execute_result"
    }
   ],
   "source": [
    "square_me(16)"
   ]
  },
  {
   "cell_type": "code",
   "execution_count": 31,
   "metadata": {},
   "outputs": [
    {
     "data": {
      "text/plain": [
       "10201"
      ]
     },
     "execution_count": 31,
     "metadata": {},
     "output_type": "execute_result"
    }
   ],
   "source": [
    "square_me(101)"
   ]
  },
  {
   "cell_type": "markdown",
   "metadata": {},
   "source": [
    "### Lists\n",
    "\n",
    "What if we have special sequences of data that we want to store and then process? Storing a lot of things in one place is what \"lists\" allow us to do! We can even combine lists with for loops and functions to do cool things to each data member in the list. For instance:"
   ]
  },
  {
   "cell_type": "code",
   "execution_count": 32,
   "metadata": {
    "collapsed": true
   },
   "outputs": [],
   "source": [
    "my_list = [1,2,3,4]"
   ]
  },
  {
   "cell_type": "code",
   "execution_count": 33,
   "metadata": {},
   "outputs": [
    {
     "data": {
      "text/plain": [
       "4"
      ]
     },
     "execution_count": 33,
     "metadata": {},
     "output_type": "execute_result"
    }
   ],
   "source": [
    "len(my_list)"
   ]
  },
  {
   "cell_type": "code",
   "execution_count": 34,
   "metadata": {},
   "outputs": [
    {
     "data": {
      "text/plain": [
       "1"
      ]
     },
     "execution_count": 34,
     "metadata": {},
     "output_type": "execute_result"
    }
   ],
   "source": [
    "my_list[0]"
   ]
  },
  {
   "cell_type": "code",
   "execution_count": 35,
   "metadata": {},
   "outputs": [
    {
     "data": {
      "text/plain": [
       "3"
      ]
     },
     "execution_count": 35,
     "metadata": {},
     "output_type": "execute_result"
    }
   ],
   "source": [
    "my_list[2]"
   ]
  },
  {
   "cell_type": "markdown",
   "metadata": {},
   "source": [
    "This one will send an error back because in PYTHON, lists start numbering at 0 and go to the length-1"
   ]
  },
  {
   "cell_type": "code",
   "execution_count": 36,
   "metadata": {},
   "outputs": [
    {
     "ename": "IndexError",
     "evalue": "list index out of range",
     "output_type": "error",
     "traceback": [
      "\u001b[0;31m---------------------------------------------------------------------------\u001b[0m",
      "\u001b[0;31mIndexError\u001b[0m                                Traceback (most recent call last)",
      "\u001b[0;32m<ipython-input-36-e3c7f5a07ede>\u001b[0m in \u001b[0;36m<module>\u001b[0;34m()\u001b[0m\n\u001b[0;32m----> 1\u001b[0;31m \u001b[0mmy_list\u001b[0m\u001b[0;34m[\u001b[0m\u001b[0;36m4\u001b[0m\u001b[0;34m]\u001b[0m\u001b[0;34m\u001b[0m\u001b[0m\n\u001b[0m",
      "\u001b[0;31mIndexError\u001b[0m: list index out of range"
     ]
    }
   ],
   "source": [
    "my_list[4]"
   ]
  },
  {
   "cell_type": "markdown",
   "metadata": {
    "collapsed": true
   },
   "source": [
    "## Putting it all together\n",
    "\n",
    "Let's combine our skills! Let's use the list (```my_list```), for-loop over its contents, and square each one, printing the result!"
   ]
  },
  {
   "cell_type": "code",
   "execution_count": 37,
   "metadata": {},
   "outputs": [
    {
     "name": "stdout",
     "output_type": "stream",
     "text": [
      "1\n",
      "4\n",
      "9\n",
      "16\n"
     ]
    }
   ],
   "source": [
    "for x in my_list:\n",
    "    print( square_me(x) )"
   ]
  },
  {
   "cell_type": "code",
   "execution_count": null,
   "metadata": {
    "collapsed": true
   },
   "outputs": [],
   "source": []
  }
 ],
 "metadata": {
  "kernelspec": {
   "display_name": "Python [conda root]",
   "language": "python",
   "name": "conda-root-py"
  },
  "language_info": {
   "codemirror_mode": {
    "name": "ipython",
    "version": 3
   },
   "file_extension": ".py",
   "mimetype": "text/x-python",
   "name": "python",
   "nbconvert_exporter": "python",
   "pygments_lexer": "ipython3",
   "version": "3.5.3"
  },
  "nav_menu": {},
  "toc": {
   "navigate_menu": true,
   "number_sections": false,
   "sideBar": false,
   "threshold": 6,
   "toc_cell": true,
   "toc_section_display": "block",
   "toc_window_display": false
  }
 },
 "nbformat": 4,
 "nbformat_minor": 1
}
